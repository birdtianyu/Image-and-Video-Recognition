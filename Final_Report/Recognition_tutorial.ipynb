{
  "nbformat": 4,
  "nbformat_minor": 0,
  "metadata": {
    "colab": {
      "name": "Recognition_tutorial.ipynb",
      "provenance": [],
      "collapsed_sections": []
    },
    "kernelspec": {
      "name": "python3",
      "display_name": "Python 3"
    }
  },
  "cells": [
    {
      "cell_type": "code",
      "metadata": {
        "id": "6HQ4D2yfMk5e"
      },
      "source": [
        "import torch\r\n",
        "from torch import optim\r\n",
        "import torch.nn as nn\r\n",
        "\r\n",
        "import torchvision\r\n",
        "import torchvision.transforms as transforms\r\n",
        "\r\n",
        "import numpy as np\r\n",
        "import matplotlib.pyplot as plt\r\n",
        "from PIL import Image\r\n",
        "import PIL.ImageOps\r\n",
        "import random\r\n",
        "\r\n",
        "from invert import Invert\r\n",
        "\r\n",
        "from get_images import *\r\n",
        "from Networks import * "
      ],
      "execution_count": 69,
      "outputs": []
    },
    {
      "cell_type": "code",
      "metadata": {
        "id": "HKdiL-ROM7Kg"
      },
      "source": [
        "images = np.load(\"./SampleData.npy\")"
      ],
      "execution_count": 8,
      "outputs": []
    },
    {
      "cell_type": "code",
      "metadata": {
        "id": "5QzEMpmxTg-x"
      },
      "source": [
        "# 返回每一类的距离\r\n",
        "def get_distance(vector, Mean_Vectors):\r\n",
        "    result = []\r\n",
        "    for key in Mean_Vectors.keys():\r\n",
        "        dis = torch.nn.functional.pairwise_distance(vector,Mean_Vectors[key].unsqueeze(0)).item()\r\n",
        "        result.append(dis)\r\n",
        "    return result"
      ],
      "execution_count": 48,
      "outputs": []
    },
    {
      "cell_type": "markdown",
      "metadata": {
        "id": "C0y49vfVO_Ra"
      },
      "source": [
        "## Load Models and Mean tensors"
      ]
    },
    {
      "cell_type": "code",
      "metadata": {
        "id": "wCjvZHKyNlmp"
      },
      "source": [
        "# Load Model\r\n",
        "model1 = torch.load('./model/Model1.pkl') # Siamese Network\r\n",
        "model2 = torch.load('./model/Model2.pkl') # CNNs\r\n",
        "model3 = torch.load('./model/Model3.pkl') # MNIST Model\r\n",
        "\r\n",
        "# Load tensors\r\n",
        "Mean_Vectors = torch.load('./model/Mean_Tensor.pt')\r\n",
        "\r\n",
        "# Class name\r\n",
        "Class_name = list(Mean_Vectors.keys())"
      ],
      "execution_count": 70,
      "outputs": []
    },
    {
      "cell_type": "markdown",
      "metadata": {
        "id": "2QJ83-2VPo-K"
      },
      "source": [
        "## Load Targets"
      ]
    },
    {
      "cell_type": "code",
      "metadata": {
        "id": "-n3GfIqHQU0A"
      },
      "source": [
        "IMG_SIZE1 = 256\r\n",
        "IMG_SIZE2 = 28"
      ],
      "execution_count": 18,
      "outputs": []
    },
    {
      "cell_type": "code",
      "metadata": {
        "id": "D94UxmOwQSaS"
      },
      "source": [
        "transform1 = transforms.Compose([transforms.Resize((IMG_SIZE1, IMG_SIZE1)),\r\n",
        "                                transforms.Grayscale(num_output_channels=1), # 灰度化\r\n",
        "                                # Invert(),\r\n",
        "                                # transforms.RandomHorizontalFlip(), # 随机水平翻转\r\n",
        "                                transforms.ToTensor(),\r\n",
        "                                ])\r\n",
        "\r\n",
        "transform2 = transforms.Compose([transforms.Resize((IMG_SIZE2, IMG_SIZE2)),\r\n",
        "                                transforms.Grayscale(num_output_channels=1), # 灰度化\r\n",
        "                                # Invert(),\r\n",
        "                                # transforms.RandomHorizontalFlip(), # 随机水平翻转\r\n",
        "                                transforms.ToTensor(),\r\n",
        "                                ])"
      ],
      "execution_count": 19,
      "outputs": []
    },
    {
      "cell_type": "code",
      "metadata": {
        "colab": {
          "base_uri": "https://localhost:8080/"
        },
        "id": "6Y1Dx3ffM7wt",
        "outputId": "b0382c28-3f46-4b44-82c8-1d066023843d"
      },
      "source": [
        "targets = get_images(images)\r\n",
        "print(f\"{len(targets)} parts\")"
      ],
      "execution_count": 20,
      "outputs": [
        {
          "output_type": "stream",
          "text": [
            "Cut Points: [0, 136, 251, 376, 503, 800]\n",
            "5 parts\n"
          ],
          "name": "stdout"
        }
      ]
    },
    {
      "cell_type": "markdown",
      "metadata": {
        "id": "TkR6Ln8TPC-S"
      },
      "source": [
        "## Recognition"
      ]
    },
    {
      "cell_type": "code",
      "metadata": {
        "colab": {
          "base_uri": "https://localhost:8080/",
          "height": 269
        },
        "id": "Fh_ExBMpQ8G2",
        "outputId": "305e3527-1585-4996-ad38-522a4aeee0fb"
      },
      "source": [
        "# show image\r\n",
        "img = Image.fromarray(targets[4])\r\n",
        "img = transform1(img)\r\n",
        "img = torchvision.utils.make_grid(img)\r\n",
        "plt.imshow(np.transpose(img, (1,2,0)))\r\n",
        "plt.show()"
      ],
      "execution_count": 57,
      "outputs": [
        {
          "output_type": "display_data",
          "data": {
            "image/png": "[encoded data removed]",
            "text/plain": [
              "<Figure size 432x288 with 1 Axes>"
            ]
          },
          "metadata": {
            "tags": [],
            "needs_background": "light"
          }
        }
      ]
    },
    {
      "cell_type": "code",
      "metadata": {
        "id": "5AGGQEN3NAwD"
      },
      "source": [
        "Predictions = []\r\n",
        "THRESHOLD = 0.8\r\n",
        "Digital_Switch = False # Whether to identify the number\r\n",
        "\r\n",
        "for item in targets:\r\n",
        "    img = Image.fromarray(item)\r\n",
        "\r\n",
        "    # Step 1: Start with Siamese Network\r\n",
        "    img256 = transform1(img)\r\n",
        "    img256 = img256.unsqueeze(0) # 增加一个个数维度\r\n",
        "    Prediction_vector1, _ = model1(img256, img256)\r\n",
        "    distance_list = get_distance(Prediction_vector1, Mean_Vectors)\r\n",
        "    Prediction_Class = np.argmin(distance_list)\r\n",
        "    Prediction_Dissimilarity = np.min(distance_list)\r\n",
        "\r\n",
        "    # print(Prediction_vector.shape)\r\n",
        "    # print(distance_list)\r\n",
        "    # print(Prediction_Class, Prediction_Dissimilarity)\r\n",
        "\r\n",
        "    # Greater than the threshold\r\n",
        "    if Prediction_Dissimilarity < THRESHOLD:\r\n",
        "        # Step 2: Check by CNNs\r\n",
        "        Prediction_vector2 = model2(img256)\r\n",
        "        Check_Prediction_Class = np.argmax(Prediction_vector2.detach().numpy())\r\n",
        "        \r\n",
        "        ########################### Output Processing ###########################\r\n",
        "        if Prediction_Class == Check_Prediction_Class:\r\n",
        "            Digital_Switch = False\r\n",
        "            Predictions.append(Class_name[Prediction_Class])\r\n",
        "            if Prediction_Class == 4:\r\n",
        "                Digital_Switch = True\r\n",
        "            continue\r\n",
        "\r\n",
        "    \r\n",
        "    if Digital_Switch:\r\n",
        "        # Step 2: identify the number \r\n",
        "        img28 = transform2(img)\r\n",
        "        img28 = img28.unsqueeze(0) # 增加一个个数维度\r\n",
        "        Prediction_number_vector = model3(img28)\r\n",
        "        number = np.argmax(Prediction_number_vector.detach().numpy())\r\n",
        "        Predictions.append(number)\r\n",
        "\r\n",
        "    Predictions.append(\"?\")"
      ],
      "execution_count": 67,
      "outputs": []
    },
    {
      "cell_type": "code",
      "metadata": {
        "colab": {
          "base_uri": "https://localhost:8080/"
        },
        "id": "bqzn9RvLUptT",
        "outputId": "ba94da61-38f4-49b4-f926-3fa0e01e9a66"
      },
      "source": [
        "Predictions"
      ],
      "execution_count": 68,
      "outputs": [
        {
          "output_type": "execute_result",
          "data": {
            "text/plain": [
              "['U2661', 'U2662', '?', '?', '?']"
            ]
          },
          "metadata": {
            "tags": []
          },
          "execution_count": 68
        }
      ]
    },
    {
      "cell_type": "code",
      "metadata": {
        "id": "TFoTjwIYVqBB"
      },
      "source": [
        ""
      ],
      "execution_count": null,
      "outputs": []
    }
  ]
}